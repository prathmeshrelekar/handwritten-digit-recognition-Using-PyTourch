{
  "nbformat": 4,
  "nbformat_minor": 0,
  "metadata": {
    "colab": {
      "name": "handwriten_digit_recognition.ipynb",
      "provenance": []
    },
    "kernelspec": {
      "name": "python3",
      "display_name": "Python 3"
    },
    "language_info": {
      "name": "python"
    }
  },
  "cells": [
    {
      "cell_type": "markdown",
      "metadata": {
        "id": "k-D-sxPLcek5"
      },
      "source": [
        "## Handwritten Digit Recognition Using Pytorch"
      ]
    },
    {
      "cell_type": "code",
      "metadata": {
        "id": "P6cELCwSLpUQ"
      },
      "source": [
        "import torch\n",
        "import torchvision\n",
        "from torchvision import transforms,datasets"
      ],
      "execution_count": 1,
      "outputs": []
    },
    {
      "cell_type": "code",
      "metadata": {
        "colab": {
          "base_uri": "https://localhost:8080/"
        },
        "id": "rulKqWIfL2C-",
        "outputId": "4dfaecc7-6ea2-4e85-9b38-51e63f4735f2"
      },
      "source": [
        "train=datasets.MNIST(\"\", train=True, download=True,\n",
        "                    transform=transforms.Compose([transforms.ToTensor()]))\n",
        "\n",
        "test=datasets.MNIST(\"\", train=False, download=True,\n",
        "                    transform=transforms.Compose([transforms.ToTensor()]))"
      ],
      "execution_count": 2,
      "outputs": [
        {
          "output_type": "stream",
          "name": "stderr",
          "text": [
            "/usr/local/lib/python3.7/dist-packages/torchvision/datasets/mnist.py:498: UserWarning: The given NumPy array is not writeable, and PyTorch does not support non-writeable tensors. This means you can write to the underlying (supposedly non-writeable) NumPy array using the tensor. You may want to copy the array to protect its data or make it writeable before converting it to a tensor. This type of warning will be suppressed for the rest of this program. (Triggered internally at  /pytorch/torch/csrc/utils/tensor_numpy.cpp:180.)\n",
            "  return torch.from_numpy(parsed.astype(m[2], copy=False)).view(*s)\n"
          ]
        }
      ]
    },
    {
      "cell_type": "code",
      "metadata": {
        "id": "Yaqr6eWWMDc-"
      },
      "source": [
        "trainset= torch.utils.data.DataLoader(train,batch_size=10,shuffle=True)\n",
        "testset=torch.utils.data.DataLoader(test, batch_size=10, shuffle=True)"
      ],
      "execution_count": 3,
      "outputs": []
    },
    {
      "cell_type": "code",
      "metadata": {
        "colab": {
          "base_uri": "https://localhost:8080/"
        },
        "id": "MOOaPnsFMH1K",
        "outputId": "f0e4d9bf-2678-4936-9d55-8ac754e01e6b"
      },
      "source": [
        "for data in trainset:\n",
        "  print(data)\n",
        "  break"
      ],
      "execution_count": 4,
      "outputs": [
        {
          "output_type": "stream",
          "name": "stdout",
          "text": [
            "[tensor([[[[0., 0., 0.,  ..., 0., 0., 0.],\n",
            "          [0., 0., 0.,  ..., 0., 0., 0.],\n",
            "          [0., 0., 0.,  ..., 0., 0., 0.],\n",
            "          ...,\n",
            "          [0., 0., 0.,  ..., 0., 0., 0.],\n",
            "          [0., 0., 0.,  ..., 0., 0., 0.],\n",
            "          [0., 0., 0.,  ..., 0., 0., 0.]]],\n",
            "\n",
            "\n",
            "        [[[0., 0., 0.,  ..., 0., 0., 0.],\n",
            "          [0., 0., 0.,  ..., 0., 0., 0.],\n",
            "          [0., 0., 0.,  ..., 0., 0., 0.],\n",
            "          ...,\n",
            "          [0., 0., 0.,  ..., 0., 0., 0.],\n",
            "          [0., 0., 0.,  ..., 0., 0., 0.],\n",
            "          [0., 0., 0.,  ..., 0., 0., 0.]]],\n",
            "\n",
            "\n",
            "        [[[0., 0., 0.,  ..., 0., 0., 0.],\n",
            "          [0., 0., 0.,  ..., 0., 0., 0.],\n",
            "          [0., 0., 0.,  ..., 0., 0., 0.],\n",
            "          ...,\n",
            "          [0., 0., 0.,  ..., 0., 0., 0.],\n",
            "          [0., 0., 0.,  ..., 0., 0., 0.],\n",
            "          [0., 0., 0.,  ..., 0., 0., 0.]]],\n",
            "\n",
            "\n",
            "        ...,\n",
            "\n",
            "\n",
            "        [[[0., 0., 0.,  ..., 0., 0., 0.],\n",
            "          [0., 0., 0.,  ..., 0., 0., 0.],\n",
            "          [0., 0., 0.,  ..., 0., 0., 0.],\n",
            "          ...,\n",
            "          [0., 0., 0.,  ..., 0., 0., 0.],\n",
            "          [0., 0., 0.,  ..., 0., 0., 0.],\n",
            "          [0., 0., 0.,  ..., 0., 0., 0.]]],\n",
            "\n",
            "\n",
            "        [[[0., 0., 0.,  ..., 0., 0., 0.],\n",
            "          [0., 0., 0.,  ..., 0., 0., 0.],\n",
            "          [0., 0., 0.,  ..., 0., 0., 0.],\n",
            "          ...,\n",
            "          [0., 0., 0.,  ..., 0., 0., 0.],\n",
            "          [0., 0., 0.,  ..., 0., 0., 0.],\n",
            "          [0., 0., 0.,  ..., 0., 0., 0.]]],\n",
            "\n",
            "\n",
            "        [[[0., 0., 0.,  ..., 0., 0., 0.],\n",
            "          [0., 0., 0.,  ..., 0., 0., 0.],\n",
            "          [0., 0., 0.,  ..., 0., 0., 0.],\n",
            "          ...,\n",
            "          [0., 0., 0.,  ..., 0., 0., 0.],\n",
            "          [0., 0., 0.,  ..., 0., 0., 0.],\n",
            "          [0., 0., 0.,  ..., 0., 0., 0.]]]]), tensor([9, 1, 2, 1, 8, 4, 0, 1, 1, 5])]\n"
          ]
        }
      ]
    },
    {
      "cell_type": "code",
      "metadata": {
        "colab": {
          "base_uri": "https://localhost:8080/"
        },
        "id": "qiSaIwqRMJZT",
        "outputId": "5330dbf5-ee1b-4e54-8fed-33cc1f2be8f8"
      },
      "source": [
        "x,y= data[0][0], data[1][0]\n",
        "print(y)"
      ],
      "execution_count": 5,
      "outputs": [
        {
          "output_type": "stream",
          "name": "stdout",
          "text": [
            "tensor(9)\n"
          ]
        }
      ]
    },
    {
      "cell_type": "code",
      "metadata": {
        "colab": {
          "base_uri": "https://localhost:8080/"
        },
        "id": "HYAFOdwJMM5z",
        "outputId": "b3087ac4-235f-4e5b-c943-6849d0eb2def"
      },
      "source": [
        "print(data[0][0].shape)"
      ],
      "execution_count": 6,
      "outputs": [
        {
          "output_type": "stream",
          "name": "stdout",
          "text": [
            "torch.Size([1, 28, 28])\n"
          ]
        }
      ]
    },
    {
      "cell_type": "code",
      "metadata": {
        "colab": {
          "base_uri": "https://localhost:8080/",
          "height": 265
        },
        "id": "7g14CFuBMM4-",
        "outputId": "551b2fbb-92ae-4605-e3ad-c29163de7ea6"
      },
      "source": [
        "import matplotlib.pyplot as plt\n",
        "plt.imshow(data[0][0].view([28,28]))\n",
        "plt.show()"
      ],
      "execution_count": 7,
      "outputs": [
        {
          "output_type": "display_data",
          "data": {
            "image/png": "[encoded data removed]",
            "text/plain": [
              "<Figure size 432x288 with 1 Axes>"
            ]
          },
          "metadata": {
            "needs_background": "light"
          }
        }
      ]
    },
    {
      "cell_type": "code",
      "metadata": {
        "id": "gemBhla6MM0z"
      },
      "source": [
        "import torch.nn as nn       # nn is like Object\n",
        "import torch.nn.functional as F     # F is like function"
      ],
      "execution_count": 8,
      "outputs": []
    },
    {
      "cell_type": "code",
      "metadata": {
        "colab": {
          "base_uri": "https://localhost:8080/"
        },
        "id": "yxt9Q0q4MMz9",
        "outputId": "4493909a-40ac-411c-bf9a-7727be85492d"
      },
      "source": [
        "class Net(nn.Module):\n",
        "\n",
        "  def __init__(self):\n",
        "    super().__init__()\n",
        "    self.fc1=nn.Linear(28*28, 64)\n",
        "    self.fc2=nn.Linear(64, 64)\n",
        "    self.fc3=nn.Linear(64, 64)\n",
        "    self.fc4=nn.Linear(64, 10)\n",
        "\n",
        "  def forward(self,x):\n",
        "    x=F.relu(self.fc1(x))\n",
        "    x=F.relu(self.fc2(x))\n",
        "    x=F.relu(self.fc3(x))\n",
        "    x=self.fc4(x)\n",
        "    return F.log_softmax(x, dim=1)\n",
        "\n",
        "net=Net()\n",
        "print(net)"
      ],
      "execution_count": 9,
      "outputs": [
        {
          "output_type": "stream",
          "name": "stdout",
          "text": [
            "Net(\n",
            "  (fc1): Linear(in_features=784, out_features=64, bias=True)\n",
            "  (fc2): Linear(in_features=64, out_features=64, bias=True)\n",
            "  (fc3): Linear(in_features=64, out_features=64, bias=True)\n",
            "  (fc4): Linear(in_features=64, out_features=10, bias=True)\n",
            ")\n"
          ]
        }
      ]
    },
    {
      "cell_type": "code",
      "metadata": {
        "colab": {
          "base_uri": "https://localhost:8080/"
        },
        "id": "IrcUBz83Mava",
        "outputId": "9e2d7e34-e649-4672-f628-591091fa2655"
      },
      "source": [
        "X=torch.rand((28*28))\n",
        "X=X.view(-1,28*28)\n",
        "output=net(X)\n",
        "print(output)"
      ],
      "execution_count": 10,
      "outputs": [
        {
          "output_type": "stream",
          "name": "stdout",
          "text": [
            "tensor([[-2.2312, -2.2085, -2.3179, -2.3374, -2.3266, -2.2285, -2.3030, -2.2271,\n",
            "         -2.3912, -2.4885]], grad_fn=<LogSoftmaxBackward>)\n"
          ]
        }
      ]
    },
    {
      "cell_type": "code",
      "metadata": {
        "colab": {
          "base_uri": "https://localhost:8080/"
        },
        "id": "FQQB7EbuMdnb",
        "outputId": "e45a4aec-c7b4-4a82-b57b-26e6c7a23091"
      },
      "source": [
        "import torch.optim as optim\n",
        "\n",
        "optimizer=optim.Adam(net.parameters(),lr=0.001) #l=e3\n",
        "\n",
        "\n",
        "EPOCHS=3\n",
        "\n",
        "for epoch in range(EPOCHS):\n",
        "\n",
        "  for data in trainset:\n",
        "    #data is a batch of feature sets and labels\n",
        "    X,y=data\n",
        "    net.zero_grad()\n",
        "    output=net(X.view(-1,28*28))\n",
        "    loss=F.nll_loss(output,y)\n",
        "    loss.backward()\n",
        "    optimizer.step()\n",
        "\n",
        "  print(loss)"
      ],
      "execution_count": 11,
      "outputs": [
        {
          "output_type": "stream",
          "name": "stdout",
          "text": [
            "tensor(0.0186, grad_fn=<NllLossBackward>)\n",
            "tensor(0.0735, grad_fn=<NllLossBackward>)\n",
            "tensor(0.7735, grad_fn=<NllLossBackward>)\n"
          ]
        }
      ]
    },
    {
      "cell_type": "code",
      "metadata": {
        "colab": {
          "base_uri": "https://localhost:8080/"
        },
        "id": "jbzng01TMfek",
        "outputId": "10ee78c7-2383-4bbc-f250-e30b05919689"
      },
      "source": [
        "correct=0\n",
        "total=0\n",
        "\n",
        "with torch.no_grad():\n",
        "  for data in trainset:\n",
        "    X,y=data\n",
        "    output=net(X.view(-1,784))\n",
        "    for idx, i in enumerate(output):\n",
        "      if torch.argmax(i)==y[idx]:\n",
        "        correct+=1\n",
        "      total+=1\n",
        "  \n",
        "print(\"Accuracy : \", round(correct/total,3))"
      ],
      "execution_count": 12,
      "outputs": [
        {
          "output_type": "stream",
          "name": "stdout",
          "text": [
            "Accuracy :  0.972\n"
          ]
        }
      ]
    },
    {
      "cell_type": "code",
      "metadata": {
        "colab": {
          "base_uri": "https://localhost:8080/",
          "height": 265
        },
        "id": "saOvz83GMtco",
        "outputId": "4a6ab4f4-ddb9-4ec5-e8a0-08239cbc2857"
      },
      "source": [
        "plt.imshow(X[0].view(28,28))\n",
        "plt.show()"
      ],
      "execution_count": 13,
      "outputs": [
        {
          "output_type": "display_data",
          "data": {
            "image/png": "[encoded data removed]",
            "text/plain": [
              "<Figure size 432x288 with 1 Axes>"
            ]
          },
          "metadata": {
            "needs_background": "light"
          }
        }
      ]
    },
    {
      "cell_type": "code",
      "metadata": {
        "colab": {
          "base_uri": "https://localhost:8080/"
        },
        "id": "GRRRVMS5MwU_",
        "outputId": "104c91d2-538d-433d-b15b-c79b2fdac280"
      },
      "source": [
        "print(torch.argmax(net(X[0].view(-1,784))[0]))"
      ],
      "execution_count": 14,
      "outputs": [
        {
          "output_type": "stream",
          "name": "stdout",
          "text": [
            "tensor(1)\n"
          ]
        }
      ]
    }
  ]
}